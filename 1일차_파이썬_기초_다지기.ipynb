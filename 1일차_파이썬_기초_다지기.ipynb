{
  "nbformat": 4,
  "nbformat_minor": 0,
  "metadata": {
    "colab": {
      "provenance": [],
      "authorship_tag": "ABX9TyMfHKzXWmjSZRUxEuoXtK9V",
      "include_colab_link": true
    },
    "kernelspec": {
      "name": "python3",
      "display_name": "Python 3"
    },
    "language_info": {
      "name": "python"
    }
  },
  "cells": [
    {
      "cell_type": "markdown",
      "metadata": {
        "id": "view-in-github",
        "colab_type": "text"
      },
      "source": [
        "<a href=\"https://colab.research.google.com/github/wantobe925/2025_mirae_master/blob/main/1%EC%9D%BC%EC%B0%A8_%ED%8C%8C%EC%9D%B4%EC%8D%AC_%EA%B8%B0%EC%B4%88_%EB%8B%A4%EC%A7%80%EA%B8%B0.ipynb\" target=\"_parent\"><img src=\"https://colab.research.google.com/assets/colab-badge.svg\" alt=\"Open In Colab\"/></a>"
      ]
    },
    {
      "cell_type": "markdown",
      "source": [
        "#1일차 파이썬 기초 다지기"
      ],
      "metadata": {
        "id": "R7fnRi-_FTZe"
      }
    },
    {
      "cell_type": "markdown",
      "source": [
        "## 1. Github 연결\n"
      ],
      "metadata": {
        "id": "ulf2KC-kFZGb"
      }
    },
    {
      "cell_type": "markdown",
      "source": [
        "### 1-1. Github 연결방법"
      ],
      "metadata": {
        "id": "vdF0YYC9Fli8"
      }
    },
    {
      "cell_type": "markdown",
      "source": [
        "## 2. 기초 문법 확인"
      ],
      "metadata": {
        "id": "ib1xLHGBF4oC"
      }
    },
    {
      "cell_type": "markdown",
      "source": [
        "### 2-1. 설치된 라이브러리 확인 방법"
      ],
      "metadata": {
        "id": "nObC1nKCF_KE"
      }
    },
    {
      "cell_type": "code",
      "source": [
        "for i in range(10):\n",
        "    print('출력')"
      ],
      "metadata": {
        "colab": {
          "base_uri": "https://localhost:8080/"
        },
        "id": "IFu1UqHVG3V8",
        "outputId": "c67ef993-4ca6-46df-8f46-dc2478d90baa"
      },
      "execution_count": 2,
      "outputs": [
        {
          "output_type": "stream",
          "name": "stdout",
          "text": [
            "출력\n",
            "출력\n",
            "출력\n",
            "출력\n",
            "출력\n",
            "출력\n",
            "출력\n",
            "출력\n",
            "출력\n",
            "출력\n"
          ]
        }
      ]
    },
    {
      "cell_type": "code",
      "source": [],
      "metadata": {
        "id": "kC8flj_HG7-a"
      },
      "execution_count": null,
      "outputs": []
    }
  ]
}